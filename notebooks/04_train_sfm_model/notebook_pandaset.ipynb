{
 "cells": [
  {
   "cell_type": "code",
   "execution_count": 1,
   "id": "Qi3jE49ZoMw6",
   "metadata": {
    "executionInfo": {
     "elapsed": 3,
     "status": "ok",
     "timestamp": 1656331950241,
     "user": {
      "displayName": "S H",
      "userId": "09544410981738841550"
     },
     "user_tz": -540
    },
    "id": "Qi3jE49ZoMw6"
   },
   "outputs": [],
   "source": [
    "%load_ext autoreload\n",
    "%autoreload 2"
   ]
  },
  {
   "cell_type": "code",
   "execution_count": 2,
   "id": "WmfDesTsoN-a",
   "metadata": {
    "colab": {
     "base_uri": "https://localhost:8080/"
    },
    "executionInfo": {
     "elapsed": 23933,
     "status": "ok",
     "timestamp": 1656331975560,
     "user": {
      "displayName": "S H",
      "userId": "09544410981738841550"
     },
     "user_tz": -540
    },
    "id": "WmfDesTsoN-a",
    "outputId": "7bc86f12-9226-49bb-ceb0-989590c9cf0c"
   },
   "outputs": [
    {
     "name": "stdout",
     "output_type": "stream",
     "text": [
      "Mounted at /content/drive\n"
     ]
    }
   ],
   "source": [
    "from google.colab import drive\n",
    "drive.mount('/content/drive')"
   ]
  },
  {
   "cell_type": "code",
   "execution_count": null,
   "id": "20PfxO3_oOIV",
   "metadata": {
    "id": "20PfxO3_oOIV"
   },
   "outputs": [],
   "source": [
    "# 4~5分かかる\n",
    "!mkdir \"./data\"\n",
    "!cp \"/content/drive/MyDrive/Colab Notebooks/depth_estimation/monocular_depth_estimation_from_scratch/data/pandaset_0.zip\" \"../data/\"\n",
    "\n",
    "!unzip \"../data/pandaset_0.zip\" -d \"../data/\"\n",
    "!rm ../data/pandaset_0.zip\n",
    "!cp -r \"/content/drive/MyDrive/Colab Notebooks/depth_estimation/monocular_depth_estimation_from_scratch/src\" .."
   ]
  },
  {
   "cell_type": "code",
   "execution_count": null,
   "id": "luNu09UgrfCe",
   "metadata": {
    "id": "luNu09UgrfCe"
   },
   "outputs": [],
   "source": [
    "!pip install segmentation_models_pytorch\n",
    "!pip install torchgeometry\n",
    "!pip install transforms3d"
   ]
  },
  {
   "cell_type": "markdown",
   "id": "6cee9fa6-0b22-47db-b970-22ae3b217b86",
   "metadata": {
    "id": "6cee9fa6-0b22-47db-b970-22ae3b217b86"
   },
   "source": [
    "# 単眼深度推定モデルを学習する\n",
    "## 使用データ: Pandaset"
   ]
  },
  {
   "cell_type": "markdown",
   "id": "c3f1beef-ffe6-443b-8bef-8a1ad5935cab",
   "metadata": {
    "id": "c3f1beef-ffe6-443b-8bef-8a1ad5935cab",
    "tags": []
   },
   "source": [
    "# ハイパーパラメータ"
   ]
  },
  {
   "cell_type": "code",
   "execution_count": 14,
   "id": "ed204ba7-d45f-45f6-aa64-e13bdbf9d011",
   "metadata": {
    "executionInfo": {
     "elapsed": 378,
     "status": "ok",
     "timestamp": 1656332685005,
     "user": {
      "displayName": "S H",
      "userId": "09544410981738841550"
     },
     "user_tz": -540
    },
    "id": "ed204ba7-d45f-45f6-aa64-e13bdbf9d011"
   },
   "outputs": [],
   "source": [
    "frame_inds = [0, -2, -4]  # 隣接フレームの番号\n",
    "epochs = 100\n",
    "lr = 0.0004\n",
    "batch_size = 16"
   ]
  },
  {
   "cell_type": "markdown",
   "id": "33003d41-9f92-4460-8629-f0a721f67be6",
   "metadata": {
    "id": "33003d41-9f92-4460-8629-f0a721f67be6"
   },
   "source": [
    "# ネットワーク"
   ]
  },
  {
   "cell_type": "markdown",
   "id": "66cdd6ee-5b6f-484e-b1a7-330485bafbfc",
   "metadata": {
    "id": "66cdd6ee-5b6f-484e-b1a7-330485bafbfc"
   },
   "source": [
    "学習するネットワークは現在のフレームの深度マップを推定するものと、フレーム間の姿勢の変化を推定するものの２つである。  \n",
    "ここではそれぞれdepth netとpose netと呼ぶ。\n",
    "- depth netは深度マップを推定するネットワーク\n",
    "- pose netは回転（X軸、Y軸、Z軸）と並進（X, Y, Z）の合計6個の数値を推定するネットワーク"
   ]
  },
  {
   "cell_type": "markdown",
   "id": "90e9e2f1-665b-4277-9cbd-b2aad917b78d",
   "metadata": {
    "id": "90e9e2f1-665b-4277-9cbd-b2aad917b78d"
   },
   "source": [
    "## depth net\n",
    "ここではネットワークの詳細に関心はないため、`segmentation_models_pytorch`を使いU-Netを定義する。  \n",
    "最新の深度推定モデルは複数の解像度の深度マップを推定するのが一般的だが、ここではGPUのメモリを節約するために、１枚のみとする"
   ]
  },
  {
   "cell_type": "code",
   "execution_count": 15,
   "id": "8c8bbf17-f196-4464-b4dd-59113267f8d1",
   "metadata": {
    "colab": {
     "base_uri": "https://localhost:8080/"
    },
    "executionInfo": {
     "elapsed": 782,
     "status": "ok",
     "timestamp": 1656332691744,
     "user": {
      "displayName": "S H",
      "userId": "09544410981738841550"
     },
     "user_tz": -540
    },
    "id": "8c8bbf17-f196-4464-b4dd-59113267f8d1",
    "outputId": "acdd8975-d0a4-49b0-c6ad-aabb56b07d3d"
   },
   "outputs": [
    {
     "data": {
      "text/plain": [
       "tensor([[[[ -0.8248,   1.1161,   0.4349,  ...,  -2.0717,  -4.1593,   0.9349],\n",
       "          [ -2.2831,   1.4702,   0.5862,  ..., -14.9018,  -6.8553,  -8.9886],\n",
       "          [ -1.9556,   0.5454,  -1.2363,  ...,  -3.0532,   2.5195,  -8.3650],\n",
       "          ...,\n",
       "          [ -0.1781,   2.7719,  -1.9162,  ..., -11.4821,  -7.6357,  -4.6036],\n",
       "          [ -0.0890,  -0.4243,   0.4272,  ...,  -6.5752,  -8.7863,  -3.7547],\n",
       "          [ -3.7539,  -6.6780,  -5.8690,  ...,  -1.2680,  -3.2053,  -4.6634]]]],\n",
       "       grad_fn=<ConvolutionBackward0>)"
      ]
     },
     "execution_count": 15,
     "metadata": {},
     "output_type": "execute_result"
    }
   ],
   "source": [
    "import segmentation_models_pytorch as smp\n",
    "import torch\n",
    "\n",
    "depth_net = smp.Unet(\"efficientnet-b0\", in_channels=3, classes=1, activation=None)\n",
    "\n",
    "# 入出力確認\n",
    "depth_net(torch.zeros(1, 3, 224, 224))"
   ]
  },
  {
   "cell_type": "markdown",
   "id": "8602f629-eb17-4f27-bc0c-a73b8ba4c002",
   "metadata": {
    "id": "8602f629-eb17-4f27-bc0c-a73b8ba4c002"
   },
   "source": [
    "## pose net\n",
    "pose netに関してもネットワークの詳細に関心がないため、`torchvision`の学習済みモデルを持ってきて、部分的にレイヤーを差し替える。\n",
    "現在フレームと隣接フレームの２枚を入力し、その２枚の間で発生した姿勢の変化量を推定する。  \n",
    "- 入力: 2枚の画像はチャンネルの次元で結合して合計で6チャンネルのテンソルとして入力を行う。\n",
    "- 出力： 出力は並進(X軸、Y軸、Z軸)と回転(X軸、Y軸、Z軸)の6DoFである。"
   ]
  },
  {
   "cell_type": "code",
   "execution_count": 16,
   "id": "c6b456a6-fb3c-4a42-9f4a-268694766544",
   "metadata": {
    "colab": {
     "base_uri": "https://localhost:8080/"
    },
    "executionInfo": {
     "elapsed": 342,
     "status": "ok",
     "timestamp": 1656332695328,
     "user": {
      "displayName": "S H",
      "userId": "09544410981738841550"
     },
     "user_tz": -540
    },
    "id": "c6b456a6-fb3c-4a42-9f4a-268694766544",
    "outputId": "035c0297-ff42-4449-cd1f-57e1d6cf06ef"
   },
   "outputs": [
    {
     "data": {
      "text/plain": [
       "tensor([[-1.2007, -1.1473, -1.3118, -0.6623, -1.0261, -1.1222]],\n",
       "       grad_fn=<AddmmBackward0>)"
      ]
     },
     "execution_count": 16,
     "metadata": {},
     "output_type": "execute_result"
    }
   ],
   "source": [
    "from torchvision.models import resnet18\n",
    "import torch.nn as nn\n",
    "from torch.nn import Linear, Conv2d\n",
    "\n",
    "pose_net = resnet18(pretrained=True)\n",
    "pose_net.conv1 = Conv2d(in_channels=3*2, out_channels=64, kernel_size=7, stride=2, padding=3, bias=False)\n",
    "pose_net.fc = Linear(in_features=512, out_features=6)\n",
    "\n",
    "nn.init.kaiming_uniform_(pose_net.conv1.weight, mode=\"fan_in\", nonlinearity=\"relu\")\n",
    "nn.init.xavier_uniform_(pose_net.fc.weight)\n",
    "nn.init.constant_(pose_net.fc.bias, 0)\n",
    "\n",
    "# 入出力確認\n",
    "pose_net(torch.zeros(1, 3*2, 224, 224))"
   ]
  },
  {
   "cell_type": "markdown",
   "id": "c91511f1-ef0d-4e4c-9780-0cf7e31d8fe8",
   "metadata": {
    "id": "c91511f1-ef0d-4e4c-9780-0cf7e31d8fe8"
   },
   "source": [
    "# Loss関数\n",
    "ここでは、Phtometric lossとSmoothness lossを定義する。  \n",
    "Photometric lossは推定した深度と姿勢変化からSourceの画像をTargetの画像に合わせて一致しているかどうかをl1とSSIMで測る。  \n",
    "また、[Monodepth2](https://arxiv.org/abs/1806.01260)で提案されたOcculusionや動体から生じる原理的に復元不可能な画素に対するLossの計算を回避するauto-maskingを導入した。  \n",
    "Smoothness lossはPhotometric lossの復元誤差が濃淡が平滑な領域で勾配を得にくいという問題を解決するために導入した。  \n",
    "このlossは近接ピクセルがおおよそ同じような深度を持っている（物体の境界以外は）という仮定のもと、それをLossとして与えるものである。  \n",
    "実装は様々あるが、ここではX,Y方向の差分のみから計算する比較的にシンプルなものを用いる。  "
   ]
  },
  {
   "cell_type": "code",
   "execution_count": 17,
   "id": "21ea5fd3-5bd7-4897-9ce2-6e9c833af4dd",
   "metadata": {
    "executionInfo": {
     "elapsed": 4,
     "status": "ok",
     "timestamp": 1656332698320,
     "user": {
      "displayName": "S H",
      "userId": "09544410981738841550"
     },
     "user_tz": -540
    },
    "id": "21ea5fd3-5bd7-4897-9ce2-6e9c833af4dd"
   },
   "outputs": [],
   "source": [
    "import sys\n",
    "sys.path.append(\"../src\")"
   ]
  },
  {
   "cell_type": "code",
   "execution_count": 18,
   "id": "2d01700d-7ee7-4d90-a914-bb25801e597f",
   "metadata": {
    "executionInfo": {
     "elapsed": 353,
     "status": "ok",
     "timestamp": 1656332699327,
     "user": {
      "displayName": "S H",
      "userId": "09544410981738841550"
     },
     "user_tz": -540
    },
    "id": "2d01700d-7ee7-4d90-a914-bb25801e597f"
   },
   "outputs": [],
   "source": [
    "import torch.nn.functional as F\n",
    "from camera import PinholeCamera\n",
    "from functools import lru_cache\n",
    "import torchgeometry as tgm\n",
    "\n",
    "\n",
    "class PhotometricLoss(torch.nn.Module):\n",
    "\n",
    "    def __init__(self, frame_inds, weights=[0.6, 0.4], automasking=False):\n",
    "        \"\"\"\n",
    "        Photometric loss\n",
    "        weights: l1とssimのlossに対する重みを指定する。デフォルトは[0.4, 0.6]\n",
    "        \"\"\"\n",
    "        super().__init__()\n",
    "        self.frame_inds = frame_inds\n",
    "        self.l1_loss = torch.nn.L1Loss(reduction=\"none\")\n",
    "        self.ssim_loss = tgm.losses.SSIM(reduction='none', window_size=3)\n",
    "        self.weights = weights\n",
    "        self.automasking = automasking\n",
    "\n",
    "    def forward(self, y, y_pred):\n",
    "        image_target = y[\"rgb_0\"]\n",
    "        depth = y_pred[f\"depth_0\"]\n",
    "        intrinsic = y[\"intrinsic_0\"]\n",
    "\n",
    "        reproj_loss = []\n",
    "        image_warped = {}\n",
    "        for idx in self.frame_inds:\n",
    "            if idx == 0: # ターゲット同士は比較しない\n",
    "                continue\n",
    "            image_source = y[f\"rgb_{idx}\"]\n",
    "            extrinsic_tgt2src = y_pred[f\"extrinsic_{idx}\"]\n",
    "            image_warped_ = self.warp(image_source, depth, intrinsic, extrinsic_tgt2src)\n",
    "            l1_loss = self.l1_loss(image_warped_, image_target)\n",
    "            ssim_loss = self.ssim_loss(image_warped_, image_target)\n",
    "            reproj_loss_ = l1_loss * self.weights[0] + ssim_loss * self.weights[1]\n",
    "            reproj_loss_ = torch.mean(reproj_loss_, dim=1) # auto-maskingで扱いやすいようにチャンネルの次元を潰しておく\n",
    "            reproj_loss.append(reproj_loss_)\n",
    "            image_warped[idx] = image_warped_\n",
    "        \n",
    "        if self.automasking:\n",
    "            # auto-masking (https://arxiv.org/pdf/1806.01260.pdf) 何も変更を加えないSource画像を利用する。\n",
    "            for idx in self.frame_inds:\n",
    "                if idx == 0: # ターゲット同士は比較しない\n",
    "                    continue\n",
    "                image_source = y[f\"rgb_{idx}\"]\n",
    "                l1_loss = self.l1_loss(image_source, image_target)\n",
    "                ssim_loss = self.ssim_loss(image_source, image_target)\n",
    "                reproj_loss_ = l1_loss * self.weights[0] + ssim_loss * self.weights[1]\n",
    "                # 平坦な領域ではWarpされたものと何も変更を加えないものでLossが全くおなじになってしまう画素が生じる可能性があるので微小な乱数を加える\n",
    "                reproj_loss_ += torch.randn(reproj_loss_.shape).to(device=reproj_loss_.device) * 1e-3\n",
    "                reproj_loss_ = torch.mean(reproj_loss_, dim=1) # auto-maskingで扱いやすいようにチャンネルの次元を潰しておく\n",
    "                reproj_loss.append(reproj_loss_)\n",
    "\n",
    "            reproj_loss = torch.stack(reproj_loss, dim=1)\n",
    "            loss, min_inds = torch.min(reproj_loss, dim=1)\n",
    "            automask = (min_inds >= (reproj_loss.shape[1] // 2)).float()\n",
    "            loss = reproj_loss.mean()\n",
    "        else:\n",
    "            loss = torch.stack(reproj_loss, dim=1)\n",
    "            automask = None\n",
    "            loss = loss.mean()\n",
    "        \n",
    "        return loss, image_warped, automask\n",
    "\n",
    "    def warp(self, image_source, depth, intrinsic, extrinsic):        \n",
    "        \"\"\" 推定された深度と姿勢からソースをターゲットに重ね合わせる \"\"\"\n",
    "        image_coords = self.create_image_coords(depth.shape)\n",
    "        image_coords = image_coords.to(depth.device)\n",
    "        camera_coords = PinholeCamera.image2world(image_coords, intrinsic, extrinsic, depth, batch=True)        \n",
    "        # これまでノートとは異なりターゲットのカメラへの座標変換が終わっているのでworld2camera()ではなくcamera2image()を呼び出す\n",
    "        image_coords = PinholeCamera.camera2image(camera_coords[..., :3], intrinsic, batch=True)\n",
    "        # PyTorchのgrid samplingはcv2.remapとは異なり、座標が[-1, 1]に正規化されたものを入力する\n",
    "        image_coords[..., 0] = image_coords[..., 0] / image_coords.shape[2] * 2 - 1\n",
    "        image_coords[..., 1] = image_coords[..., 1] / image_coords.shape[1] * 2 - 1\n",
    "        grid = image_coords\n",
    "        image_warped = F.grid_sample(image_source, grid, align_corners=False)\n",
    "        return image_warped\n",
    "                \n",
    "    @lru_cache(None)\n",
    "    def create_image_coords(self, map_shape):\n",
    "        \"\"\" 各画素に対する画像座標を生成する \"\"\"\n",
    "        xi = torch.arange(0, map_shape[2], 1)\n",
    "        yi = torch.arange(0, map_shape[1], 1)\n",
    "        coord_x, coord_y = torch.meshgrid(xi, yi, indexing=\"xy\")\n",
    "        image_coords = torch.stack([coord_x, coord_y], axis=-1)\n",
    "        image_coords = image_coords.float()        \n",
    "        image_coords = image_coords.unsqueeze(0).repeat(map_shape[0], 1, 1, 1) # バッチ化\n",
    "        return image_coords\n",
    "\n",
    "\n",
    "class SmoothnessLoss(torch.nn.Module):\n",
    "\n",
    "    def forward(self, y, y_pred):\n",
    "        depth = y_pred[f\"inv_depth_0\"]\n",
    "        gradients_y = torch.mean(torch.abs(inv_depth[..., :-1,  :] - inv_depth[..., 1:,  :]))\n",
    "        gradients_x = torch.mean(torch.abs(inv_depth[..., :  ,:-1] - inv_depth[...,  :, 1:]))\n",
    "        return (gradients_x + gradients_y) / 2"
   ]
  },
  {
   "cell_type": "code",
   "execution_count": 19,
   "id": "a3972718-5505-49f7-8981-826e8090b781",
   "metadata": {
    "executionInfo": {
     "elapsed": 3,
     "status": "ok",
     "timestamp": 1656332701684,
     "user": {
      "displayName": "S H",
      "userId": "09544410981738841550"
     },
     "user_tz": -540
    },
    "id": "a3972718-5505-49f7-8981-826e8090b781"
   },
   "outputs": [],
   "source": [
    "photometric_loss = PhotometricLoss(frame_inds=frame_inds, automasking=False)\n",
    "smoothness_loss = SmoothnessLoss()"
   ]
  },
  {
   "cell_type": "markdown",
   "id": "3c14ea33-2d55-4013-a18f-97538894aef9",
   "metadata": {
    "id": "3c14ea33-2d55-4013-a18f-97538894aef9"
   },
   "source": [
    "# Pose Utils\n",
    "pose netが推定した姿勢の変化量(6DoF)を4x4の行列に変換する。  \n",
    "`torchgeometry`の`rvec_to_pose`を使用する"
   ]
  },
  {
   "cell_type": "code",
   "execution_count": 20,
   "id": "8da6b39d-b038-4d49-9a03-b1dcb9a89ee1",
   "metadata": {
    "colab": {
     "base_uri": "https://localhost:8080/"
    },
    "executionInfo": {
     "elapsed": 3,
     "status": "ok",
     "timestamp": 1656332702874,
     "user": {
      "displayName": "S H",
      "userId": "09544410981738841550"
     },
     "user_tz": -540
    },
    "id": "8da6b39d-b038-4d49-9a03-b1dcb9a89ee1",
    "outputId": "c7cafc0a-d0a4-4cfa-a97a-62bd7e6467ca"
   },
   "outputs": [
    {
     "data": {
      "text/plain": [
       "torch.Size([3, 4, 4])"
      ]
     },
     "execution_count": 20,
     "metadata": {},
     "output_type": "execute_result"
    }
   ],
   "source": [
    "# 実行例　6DoFが4x4の行列に変換されることを確認する\n",
    "tgm.rtvec_to_pose(torch.rand(3, 6)).shape"
   ]
  },
  {
   "cell_type": "markdown",
   "id": "3e17cfbf-b629-42e9-bb85-c65115e52e64",
   "metadata": {
    "id": "3e17cfbf-b629-42e9-bb85-c65115e52e64"
   },
   "source": [
    "## training loop\n",
    "ここからようやく学習を実行する。<br>\n",
    "この学習はGTX1060（6GB RAM）で動作することが確認できている。<br>\n",
    "より大きなRAMを搭載したGPUをつかえばバッチ数、フレーム数（frame_inds）を増やし、学習を安定化させることができるはずである。\n",
    "\n",
    "現状は学習の初期が非常に不安定であり、depth meanがnanになってしまうことが多い。<br>\n",
    "学習が安定するまで何度か実行し直す必要がある。"
   ]
  },
  {
   "cell_type": "code",
   "execution_count": 21,
   "id": "db84c088-28a0-4d56-90cb-15136705f6dd",
   "metadata": {
    "colab": {
     "base_uri": "https://localhost:8080/"
    },
    "executionInfo": {
     "elapsed": 2343,
     "status": "ok",
     "timestamp": 1656332710961,
     "user": {
      "displayName": "S H",
      "userId": "09544410981738841550"
     },
     "user_tz": -540
    },
    "id": "db84c088-28a0-4d56-90cb-15136705f6dd",
    "outputId": "4e54010c-aa4c-4067-f3d3-8922053be967",
    "tags": []
   },
   "outputs": [
    {
     "name": "stdout",
     "output_type": "stream",
     "text": [
      "loading sequences\n"
     ]
    }
   ],
   "source": [
    "# 学習用のデータセットクラスの読み込みを行う\n",
    "from dataset import Pandaset\n",
    "train_dataset = Pandaset(root_dir=\"./data\", cameras=[\"front_camera\"], frame_inds=frame_inds)"
   ]
  },
  {
   "cell_type": "code",
   "execution_count": 22,
   "id": "adf53361-5961-4031-bd18-b87f538ec37a",
   "metadata": {
    "executionInfo": {
     "elapsed": 606,
     "status": "ok",
     "timestamp": 1656332711561,
     "user": {
      "displayName": "S H",
      "userId": "09544410981738841550"
     },
     "user_tz": -540
    },
    "id": "adf53361-5961-4031-bd18-b87f538ec37a",
    "tags": []
   },
   "outputs": [],
   "source": [
    "from torch.utils.data import DataLoader, Dataset\n",
    "import cv2\n",
    "\n",
    "\n",
    "class Transform(Dataset):\n",
    "    \"\"\"\n",
    "    ネットワークへの入力に適切な形に変換するクラス。\n",
    "    主に画像のリサイズとそれに伴う内部パラメタの補正を行う。\n",
    "    \"\"\"\n",
    "\n",
    "    def __init__(self, dataset):        \n",
    "        super().__init__()\n",
    "        self.dataset = dataset\n",
    "        self.crop = (0, 43, 1920, 1003) # (x0, y0, x1, y1)\n",
    "        self.scale = 1.0 / 5.0\n",
    "\n",
    "    def __getitem__(self, idx):\n",
    "        data = self.dataset[idx]\n",
    "        for key in data.keys():\n",
    "            if key.startswith(\"rgb_\") or key.startswith(\"depth_\"):\n",
    "                # 画像と深度を変換する\n",
    "                image = data[key]\n",
    "                # クロップと縮小。CNNに入力する都合でキリの良い画素数に変更する必要があり、\n",
    "                # ここでは、(w1920 x h1080) --crop--> (w1920 x h960) --resize--> (w384 x h192)としている。\n",
    "                # Unetに入る前のshapeは、32の倍数でなくてはならない。 参考URL-> https://github.com/qubvel/segmentation_models.pytorch/issues/548\n",
    "                image = image[self.crop[1]:self.crop[3], self.crop[0]:self.crop[2]]\n",
    "                orig_shape = image.shape\n",
    "                dest_size = (int(orig_shape[1] * self.scale), int(orig_shape[0] * self.scale))\n",
    "                image = cv2.resize(image, dest_size, interpolation=cv2.INTER_LINEAR)\n",
    "                data[key] = torch.tensor(image).float()\n",
    "                if key.startswith(\"rgb_\"):\n",
    "                    data[key] = data[key].permute(2, 0, 1) # (B, H, W, C) -> (B, C, H, W)\n",
    "                    data[key] /= 255.0 # normalize\n",
    "            elif key.startswith(\"intrinsic_\"):\n",
    "                # 画像がリサイズとクロップに合わせて内部パラメタを補正する\n",
    "                intrinsic = data[key]\n",
    "                intrinsic[0, 2] = intrinsic[0, 2] - self.crop[0]\n",
    "                intrinsic[1, 2] = intrinsic[1, 2] - self.crop[1]\n",
    "                intrinsic[:2, :] *= self.scale\n",
    "                data[key] = torch.tensor(intrinsic).float()\n",
    "            else:\n",
    "                data[key] = torch.tensor(data[key]).float()\n",
    "\n",
    "        return data\n",
    "\n",
    "    def __len__(self):\n",
    "        return len(self.dataset)\n",
    "\n",
    "\n",
    "train_dataloader = DataLoader(Transform(train_dataset), batch_size=batch_size, shuffle=True, drop_last=True)"
   ]
  },
  {
   "cell_type": "code",
   "execution_count": 24,
   "id": "482ab7e1-0427-418e-a1eb-9fc225c2c550",
   "metadata": {
    "colab": {
     "base_uri": "https://localhost:8080/",
     "height": 1000,
     "output_embedded_package_id": "1_SGnqzK6wZj8mAF3UEJTGAwBZWsoVJwc"
    },
    "executionInfo": {
     "elapsed": 32326435,
     "status": "ok",
     "timestamp": 1656365407603,
     "user": {
      "displayName": "S H",
      "userId": "09544410981738841550"
     },
     "user_tz": -540
    },
    "id": "482ab7e1-0427-418e-a1eb-9fc225c2c550",
    "outputId": "70dbffb2-efb6-4332-a6ce-b8b4145da4f3"
   },
   "outputs": [
    {
     "data": {
      "text/plain": [
       "Output hidden; open in https://colab.research.google.com to view."
      ]
     },
     "metadata": {},
     "output_type": "display_data"
    }
   ],
   "source": [
    "import torch\n",
    "from torch.optim import Adam\n",
    "from torch.optim.lr_scheduler import MultiStepLR   \n",
    "from tqdm import tqdm\n",
    "import matplotlib.pyplot as plt\n",
    "import math\n",
    "import os\n",
    "\n",
    "\n",
    "# GPUを使う場合（マルチGPUは非対応）\n",
    "device = \"cuda:0\" if torch.cuda.is_available() else \"cpu\"\n",
    "print(\"device:\", device)\n",
    "\n",
    "# num_batch_accumulation = 4\n",
    "\n",
    "depth_net.train().to(device)\n",
    "pose_net.train().to(device)\n",
    "\n",
    "# optimizerを定義。depth_netとpose_netの２つのネットワークのパラメタを渡す。\n",
    "optimizer = Adam([\n",
    "    {\"params\": depth_net.parameters()},\n",
    "    {\"params\": pose_net.parameters()}],\n",
    "    lr=lr,\n",
    "    )\n",
    "\n",
    "# learning rate schecdulerを定義。徐々にlrを減衰させる。\n",
    "scheduler = MultiStepLR(optimizer, milestones=[30, 60, 90], gamma=0.5)\n",
    "\n",
    "torch.autograd.set_detect_anomaly(True)\n",
    "\n",
    "print(\"*** training start ***\")\n",
    "\n",
    "for i in range(epochs):\n",
    "    with tqdm(train_dataloader) as pbar:\n",
    "        for j, batch in enumerate(pbar):\n",
    "            # GPUにバッチを転送する\n",
    "            batch = {k:v.to(device) for k, v in batch.items()}\n",
    "\n",
    "            # 深度を推定する\n",
    "            inv_depth = depth_net(batch[\"rgb_0\"])\n",
    "            inv_depth = F.relu(inv_depth)\n",
    "            inv_depth = inv_depth.squeeze(1)\n",
    "            inv_depth = (inv_depth + 1e-2) / (1 + 1e-2) # inverse depthの最小値（最長深度）を1e-2（100）とする。\n",
    "            depth = 1 / inv_depth\n",
    "\n",
    "            # 姿勢を推定する\n",
    "            y_pred = {\n",
    "                \"depth_0\": depth,\n",
    "                \"inv_depth_0\": inv_depth,\n",
    "            }\n",
    "\n",
    "            for idx in frame_inds:\n",
    "                if idx == 0:\n",
    "                    continue\n",
    "                image_concat = torch.cat([batch[f\"rgb_0\"], batch[f\"rgb_{idx}\"]], axis=1) # ソースとターゲットの２枚の画像を同時に入力する\n",
    "                pose = torch.tanh(pose_net(image_concat) * 0.001)\n",
    "                rotation, translation = pose[..., 0:3], pose[..., 3:]\n",
    "                rotation = rotation * math.pi # 各軸の回転を最大でPiに限定する\n",
    "                translation = translation * 5.0 # 各軸の並進を最大で5.0に限定する\n",
    "                rtmat = tgm.rtvec_to_pose(torch.cat([rotation, translation], dim=-1))\n",
    "                y_pred[f\"extrinsic_{idx}\"] = rtmat\n",
    "\n",
    "            # Lossを計算する\n",
    "            y = {k:v for k, v in batch.items() if k.startswith(\"rgb_\") or k.startswith(\"intrinsic_\")}\n",
    "            loss_ph, image_warped, automask = photometric_loss(y, y_pred)\n",
    "            loss_sm = smoothness_loss(y, y_pred)\n",
    "            loss = (loss_ph * 0.95) + (loss_sm * 0.05)\n",
    "            loss.backward()\n",
    "\n",
    "            # if (j + 1) % num_batch_accumulation == 0:\n",
    "            optimizer.step()\n",
    "            optimizer.zero_grad()\n",
    "\n",
    "            if j % 200 == 0:\n",
    "                # デバッグのために１枚分の出力を表示する\n",
    "                plt.figure(figsize=(20, 20))\n",
    "                ax_source_image = plt.subplot(5, 1, 1)\n",
    "                ax_target_image = plt.subplot(5, 1, 2)\n",
    "                ax_warped = plt.subplot(5, 1, 3)\n",
    "                ax_depth = plt.subplot(5, 1, 4)\n",
    "                ax_automask = plt.subplot(5, 1, 5)\n",
    "\n",
    "                ax_source_image.set_title(\"source image\")\n",
    "                ax_source_image.imshow(batch[f\"rgb_{frame_inds[1]}\"][0].detach().cpu().numpy().transpose(1, 2, 0))\n",
    "\n",
    "                ax_target_image.set_title(\"target image\")\n",
    "                ax_target_image.imshow(batch[\"rgb_0\"][0].detach().cpu().numpy().transpose(1, 2, 0))\n",
    "                \n",
    "                ax_warped.set_title(\"warped image (source to target)\")\n",
    "                ax_warped.imshow(image_warped[frame_inds[1]][0].detach().cpu().numpy().transpose(1, 2, 0))\n",
    "\n",
    "                ax_depth.set_title(\"inverse depth map\")\n",
    "                ax_depth.imshow(inv_depth[0].detach().cpu().numpy())\n",
    "\n",
    "                if automask != None:                        \n",
    "                    ax_automask.set_title(\"auto-masking\")\n",
    "                    ax_automask.imshow(automask[0].detach().cpu().numpy())\n",
    "                \n",
    "                os.makedirs(\"debug\", exist_ok=True)\n",
    "                plt.savefig(f\"debug/epoch_{i}_iter_{j}_output.jpeg\")\n",
    "                plt.show()\n",
    "                plt.close()\n",
    "\n",
    "            # プログレスバーに現在の状態を出力する\n",
    "            pbar.set_description(\n",
    "                f\"[Epoch {i}] loss (ph): {loss_ph:0.3f}, \" \\\n",
    "                f\"loss (sm) {loss_sm:0.3f}, \" \\\n",
    "                f\"depth mean {depth.mean():0.3f}, \" \\\n",
    "                f\"lr {scheduler.get_last_lr()[0]:0.6f}, \" \\\n",
    "                f\"trans mag {torch.linalg.vector_norm(pose[..., 3:], ord=2, dim=-1).mean():0.3f}\")\n",
    "    scheduler.step()\n",
    "\n",
    "os.makedirs(\"../ckpt/\", exist_ok=True)\n",
    "torch.save(\n",
    "    {\n",
    "        \"model_state_dict\": {\n",
    "            \"depth_net\": depth_net.state_dict(),\n",
    "            \"pose_net\": pose_net.state_dict(),\n",
    "        }\n",
    "    }, f\"../ckpt/models_{i}_epoch.pt\"    \n",
    ")\n",
    "    \n"
   ]
  },
  {
   "cell_type": "code",
   "execution_count": 25,
   "id": "1186a8c1-f7ab-45cc-8fc8-8086d4e58e7c",
   "metadata": {
    "executionInfo": {
     "elapsed": 591,
     "status": "ok",
     "timestamp": 1656365408983,
     "user": {
      "displayName": "S H",
      "userId": "09544410981738841550"
     },
     "user_tz": -540
    },
    "id": "1186a8c1-f7ab-45cc-8fc8-8086d4e58e7c"
   },
   "outputs": [],
   "source": [
    "!cp -r \"debug/\" \"/content/drive/MyDrive/Colab Notebooks/depth_estimation/\" \n",
    "!cp -r \"../ckpt/\" \"/content/drive/MyDrive/Colab Notebooks/depth_estimation/\" "
   ]
  }
 ],
 "metadata": {
  "accelerator": "GPU",
  "colab": {
   "collapsed_sections": [],
   "machine_shape": "hm",
   "name": "notebook_pandaset.ipynb",
   "provenance": []
  },
  "gpuClass": "standard",
  "kernelspec": {
   "display_name": "Python 3 (ipykernel)",
   "language": "python",
   "name": "python3"
  },
  "language_info": {
   "codemirror_mode": {
    "name": "ipython",
    "version": 3
   },
   "file_extension": ".py",
   "mimetype": "text/x-python",
   "name": "python",
   "nbconvert_exporter": "python",
   "pygments_lexer": "ipython3",
   "version": "3.7.12"
  }
 },
 "nbformat": 4,
 "nbformat_minor": 5
}
